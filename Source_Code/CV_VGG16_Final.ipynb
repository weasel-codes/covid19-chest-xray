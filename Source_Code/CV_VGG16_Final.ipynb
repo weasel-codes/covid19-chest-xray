{
  "nbformat": 4,
  "nbformat_minor": 0,
  "metadata": {
    "colab": {
      "name": "CV_VGG16_Final.ipynb",
      "provenance": [],
      "collapsed_sections": [
        "avoOlL074Bqv",
        "6oUK3I4lO1XJ",
        "ZRTTCQiB9Zci",
        "JPZNweMD46hG",
        "Qi0_Romx9XHI",
        "mWpOhbDY41vq"
      ]
    },
    "kernelspec": {
      "name": "python3",
      "display_name": "Python 3"
    },
    "accelerator": "GPU"
  },
  "cells": [
    {
      "cell_type": "markdown",
      "metadata": {
        "id": "ayQDyDH_49wR"
      },
      "source": [
        "# TOPIC : COVID-19 Detection Using Chest X-ray\n",
        "\n",
        "Members :\n",
        "* Abhishek Kumar (202IT001)\n",
        "* Nitin Sharma (202IT017)"
      ]
    },
    {
      "cell_type": "markdown",
      "metadata": {
        "id": "avoOlL074Bqv"
      },
      "source": [
        "## Importing relevant libraries"
      ]
    },
    {
      "cell_type": "code",
      "metadata": {
        "id": "iV1-UgeM7DB-"
      },
      "source": [
        "%%capture\n",
        "import numpy as np\n",
        "import tensorflow as tf\n",
        "import keras.backend as K\n",
        "import scipy.misc\n",
        "import pydot\n",
        "import pandas as pd\n",
        "import os\n",
        "import shutil\n",
        "import cv2 \n",
        "\n",
        "from keras import layers\n",
        "from keras.layers import Input, Add, Dense, Activation, ZeroPadding2D, BatchNormalization, Flatten, Conv2D, AveragePooling2D, MaxPooling2D, GlobalMaxPooling2D\n",
        "from keras.models import Model, load_model, Sequential\n",
        "from keras.preprocessing import image\n",
        "from keras.utils import layer_utils\n",
        "from keras.utils.data_utils import get_file\n",
        "from keras.applications.imagenet_utils import preprocess_input\n",
        "from keras.utils.vis_utils import model_to_dot\n",
        "# from keras.utils import plot_model\n",
        "from keras.initializers import glorot_uniform\n",
        "\n",
        "from random import shuffle \n",
        "from tqdm import tqdm \n",
        "from numpy import load\n",
        "from IPython.display import SVG\n",
        "from matplotlib.pyplot import imshow\n",
        "import matplotlib.pyplot as plt\n",
        "from keras.optimizers import Adam\n",
        "\n",
        "%matplotlib inline\n",
        "K.set_image_data_format('channels_last')\n",
        "K.set_learning_phase(1)\n"
      ],
      "execution_count": null,
      "outputs": []
    },
    {
      "cell_type": "markdown",
      "metadata": {
        "id": "6oUK3I4lO1XJ"
      },
      "source": [
        "## Dataset Creation"
      ]
    },
    {
      "cell_type": "code",
      "metadata": {
        "id": "UI-l_Rs1O5Zy"
      },
      "source": [
        "# df = pd.read_csv('/content/metadata.csv')\n",
        "# df[:2]"
      ],
      "execution_count": null,
      "outputs": []
    },
    {
      "cell_type": "code",
      "metadata": {
        "id": "v2ZSGO3vULgU"
      },
      "source": [
        "# from_path = '/content/drive/MyDrive/ML/cv/covid-chestxray-dataset-master/images/'\n",
        "# to_path = '/content/drive/MyDrive/ML/cv/dataset2/covid/'"
      ],
      "execution_count": null,
      "outputs": []
    },
    {
      "cell_type": "code",
      "metadata": {
        "id": "DRLpiLTvPbGX"
      },
      "source": [
        "# count = 0\n",
        "# files = []\n",
        "# for i, rec in df.iterrows() :\n",
        "#   if rec['finding'] == 'Pneumonia/Viral/COVID-19' and rec['view'] == 'PA':\n",
        "#     file_name = rec['filename']\n",
        "#     count = count+1\n",
        "#     shutil.copy2((from_path+file_name),(to_path+file_name))\n",
        "#     print(\"Moving Image : \", file_name)\n",
        "\n",
        "# print(\"Total copied : \", count)"
      ],
      "execution_count": null,
      "outputs": []
    },
    {
      "cell_type": "markdown",
      "metadata": {
        "id": "ZRTTCQiB9Zci"
      },
      "source": [
        "## Basic Pre-processing"
      ]
    },
    {
      "cell_type": "markdown",
      "metadata": {
        "id": "ZbjP35e3KYS-"
      },
      "source": [
        "ref : https://towardsdatascience.com/step-by-step-vgg16-implementation-in-keras-for-beginners-a833c686ae6c"
      ]
    },
    {
      "cell_type": "code",
      "metadata": {
        "id": "Zn5dRErgt45j"
      },
      "source": [
        "%%capture\n",
        "!wget http://cb.lk/covid_19\n",
        "!unzip covid_19"
      ],
      "execution_count": null,
      "outputs": []
    },
    {
      "cell_type": "code",
      "metadata": {
        "id": "rEsrrxip7pDY"
      },
      "source": [
        "width, height = 224, 224\n",
        "# covid_path = \"/content/drive/MyDrive/ML/cv_try/covid/\"\n",
        "# normal_path = \"/content/drive/MyDrive/ML/cv/normal/\"\n",
        "img_size = (width, height, 3)"
      ],
      "execution_count": null,
      "outputs": []
    },
    {
      "cell_type": "markdown",
      "metadata": {
        "id": "JPZNweMD46hG"
      },
      "source": [
        "## Test and Train data generator"
      ]
    },
    {
      "cell_type": "code",
      "metadata": {
        "id": "SM09hKwj7tjD"
      },
      "source": [
        "train_datagen = image.ImageDataGenerator(\n",
        " rescale=1./255,\n",
        " shear_range=0.2,\n",
        " zoom_range=0.2,\n",
        " horizontal_flip = True)\n",
        "\n",
        "val_dataset = image.ImageDataGenerator(\n",
        " rescale=1./255,\n",
        " shear_range=0.2,\n",
        " zoom_range=0.2,\n",
        " horizontal_flip = True)\n",
        "\n",
        "train_generator = train_datagen.flow_from_directory(\n",
        "    \"/content/CovidDataset/Train\",\n",
        "    target_size = (224, 224),\n",
        "    batch_size = 16,\n",
        "    class_mode = 'binary')\n",
        "\n",
        "validation_generator = val_dataset.flow_from_directory(\n",
        "    \"/content/CovidDataset/Val\",\n",
        "    target_size = (224, 224),\n",
        "    batch_size = 16,\n",
        "    class_mode = 'binary')"
      ],
      "execution_count": null,
      "outputs": []
    },
    {
      "cell_type": "code",
      "metadata": {
        "colab": {
          "base_uri": "https://localhost:8080/"
        },
        "id": "xf_Axx-_qCQr",
        "outputId": "d3a29e9e-3f68-4a55-d8ee-f8e076c8b201"
      },
      "source": [
        "train_generator.class_indices"
      ],
      "execution_count": null,
      "outputs": [
        {
          "output_type": "execute_result",
          "data": {
            "text/plain": [
              "{'Covid': 0, 'Normal': 1}"
            ]
          },
          "metadata": {
            "tags": []
          },
          "execution_count": 8
        }
      ]
    },
    {
      "cell_type": "code",
      "metadata": {
        "colab": {
          "base_uri": "https://localhost:8080/"
        },
        "id": "0iuT3IHAqGCT",
        "outputId": "cc8ebfea-7678-4fd9-cc4b-986b9ad2c975"
      },
      "source": [
        "validation_generator.class_indices"
      ],
      "execution_count": null,
      "outputs": [
        {
          "output_type": "execute_result",
          "data": {
            "text/plain": [
              "{'Covid': 0, 'Normal': 1}"
            ]
          },
          "metadata": {
            "tags": []
          },
          "execution_count": 9
        }
      ]
    },
    {
      "cell_type": "markdown",
      "metadata": {
        "id": "Qi0_Romx9XHI"
      },
      "source": [
        "## Model Creation\n",
        "\n",
        "ORIGINAL model consist of : \n",
        "\n",
        "→ 2 x convolution layer of 64 channel of 3x3 kernal and same padding\n",
        "\n",
        "→ 1 x maxpool layer of 2x2 pool size and stride 2x2\n",
        "\n",
        "→ 2 x convolution layer of 128 channel of 3x3 kernal and same padding\n",
        "\n",
        "→ 1 x maxpool layer of 2x2 pool size and stride 2x2\n",
        "\n",
        "→ 3 x convolution layer of 256 channel of 3x3 kernal and same padding\n",
        "\n",
        "→ 1 x maxpool layer of 2x2 pool size and stride 2x2\n",
        "\n",
        "→ 3 x convolution layer of 512 channel of 3x3 kernal and same padding\n",
        "\n",
        "→ 1 x maxpool layer of 2x2 pool size and stride 2x2\n",
        "\n",
        "→ 3 x convolution layer of 512 channel of 3x3 kernal and same padding\n",
        "\n",
        "→ 1 x maxpool layer of 2x2 pool size and stride 2x2"
      ]
    },
    {
      "cell_type": "code",
      "metadata": {
        "id": "rZMXxsxY9W6I"
      },
      "source": [
        "# model = Sequential()\n",
        "# model.add(Conv2D(input_shape=(224,224,3),filters=64,kernel_size=(3,3),padding=\"same\", activation=\"relu\"))\n",
        "# model.add(Conv2D(filters=64,kernel_size=(3,3),padding=\"same\", activation=\"relu\"))\n",
        "# model.add(MaxPool2D(pool_size=(2,2),strides=(2,2)))\n",
        "# model.add(Conv2D(filters=128, kernel_size=(3,3), padding=\"same\", activation=\"relu\"))\n",
        "# model.add(Conv2D(filters=128, kernel_size=(3,3), padding=\"same\", activation=\"relu\"))\n",
        "# model.add(MaxPool2D(pool_size=(2,2),strides=(2,2)))\n",
        "# model.add(Conv2D(filters=256, kernel_size=(3,3), padding=\"same\", activation=\"relu\"))\n",
        "# model.add(Conv2D(filters=256, kernel_size=(3,3), padding=\"same\", activation=\"relu\"))\n",
        "# model.add(Conv2D(filters=256, kernel_size=(3,3), padding=\"same\", activation=\"relu\"))\n",
        "# model.add(MaxPool2D(pool_size=(2,2),strides=(2,2)))\n",
        "# model.add(Conv2D(filters=512, kernel_size=(3,3), padding=\"same\", activation=\"relu\"))\n",
        "# model.add(Conv2D(filters=512, kernel_size=(3,3), padding=\"same\", activation=\"relu\"))\n",
        "# model.add(Conv2D(filters=512, kernel_size=(3,3), padding=\"same\", activation=\"relu\"))\n",
        "# model.add(MaxPool2D(pool_size=(2,2),strides=(2,2)))\n",
        "# model.add(Conv2D(filters=512, kernel_size=(3,3), padding=\"same\", activation=\"relu\"))\n",
        "# model.add(Conv2D(filters=512, kernel_size=(3,3), padding=\"same\", activation=\"relu\"))\n",
        "# model.add(Conv2D(filters=512, kernel_size=(3,3), padding=\"same\", activation=\"relu\"))\n",
        "# model.add(MaxPool2D(pool_size=(2,2),strides=(2,2)))\n",
        "\n",
        "\n",
        "model = Sequential()\n",
        "model.add(Conv2D(input_shape=(224,224,3),filters=64,kernel_size=(3,3),padding=\"same\", activation=\"relu\"))\n",
        "model.add(Conv2D(filters=64,kernel_size=(3,3),padding=\"same\", activation=\"relu\"))\n",
        "model.add(MaxPooling2D(pool_size=(2,2), strides=(2,2)))\n",
        "\n",
        "model.add(Conv2D(filters=128, kernel_size=(3,3), padding=\"same\", activation=\"relu\"))\n",
        "model.add(MaxPooling2D(pool_size=(2,2), strides=(2,2)))\n",
        "\n",
        "model.add(Conv2D(filters=256, kernel_size=(3,3), padding=\"same\", activation=\"relu\"))\n",
        "model.add(MaxPooling2D(pool_size=(2,2), strides=(2,2)))\n",
        "\n",
        "model.add(Conv2D(filters=512, kernel_size=(3,3), padding=\"same\", activation=\"relu\"))\n",
        "model.add(MaxPooling2D(pool_size=(2,2), strides=(2,2)))\n",
        "\n",
        "model.add(Conv2D(filters=512, kernel_size=(3,3), padding=\"same\", activation=\"relu\"))\n",
        "model.add(MaxPooling2D(pool_size=(2,2), strides=(2,2)))\n",
        "\n",
        "model.add(Flatten())\n",
        "model.add(Dense(units=4096,activation=\"relu\"))\n",
        "model.add(Dense(units=4096,activation=\"relu\"))\n",
        "model.add(Dense(units=1, activation=\"sigmoid\"))"
      ],
      "execution_count": null,
      "outputs": []
    },
    {
      "cell_type": "code",
      "metadata": {
        "id": "7W8emgwELpoL"
      },
      "source": [
        "model.compile(optimizer='adam', loss='binary_crossentropy', metrics=['accuracy'])"
      ],
      "execution_count": null,
      "outputs": []
    },
    {
      "cell_type": "markdown",
      "metadata": {
        "id": "mWpOhbDY41vq"
      },
      "source": [
        "## Training model and Testing"
      ]
    },
    {
      "cell_type": "code",
      "metadata": {
        "colab": {
          "base_uri": "https://localhost:8080/"
        },
        "id": "rFvLnHF_r95a",
        "outputId": "a3ffccd8-4816-46f5-f1f2-132b3f9bfb56"
      },
      "source": [
        "hist = model.fit_generator(\n",
        "    train_generator,\n",
        "    steps_per_epoch=10,\n",
        "    epochs = 15,\n",
        "    validation_data = validation_generator,\n",
        "    validation_steps=2,\n",
        "  )"
      ],
      "execution_count": null,
      "outputs": [
        {
          "output_type": "stream",
          "text": [
            "/usr/local/lib/python3.7/dist-packages/tensorflow/python/keras/engine/training.py:1844: UserWarning: `Model.fit_generator` is deprecated and will be removed in a future version. Please use `Model.fit`, which supports generators.\n",
            "  warnings.warn('`Model.fit_generator` is deprecated and '\n"
          ],
          "name": "stderr"
        },
        {
          "output_type": "stream",
          "text": [
            "Epoch 1/15\n",
            "10/10 [==============================] - 14s 826ms/step - loss: 0.9760 - accuracy: 0.4959 - val_loss: 0.6894 - val_accuracy: 0.5625\n",
            "Epoch 2/15\n",
            "10/10 [==============================] - 7s 759ms/step - loss: 0.6961 - accuracy: 0.4475 - val_loss: 0.6924 - val_accuracy: 0.9062\n",
            "Epoch 3/15\n",
            "10/10 [==============================] - 8s 777ms/step - loss: 0.6878 - accuracy: 0.8136 - val_loss: 0.4572 - val_accuracy: 0.8125\n",
            "Epoch 4/15\n",
            "10/10 [==============================] - 7s 741ms/step - loss: 0.5766 - accuracy: 0.8341 - val_loss: 0.2070 - val_accuracy: 0.9062\n",
            "Epoch 5/15\n",
            "10/10 [==============================] - 8s 795ms/step - loss: 0.6651 - accuracy: 0.7213 - val_loss: 0.5701 - val_accuracy: 0.8750\n",
            "Epoch 6/15\n",
            "10/10 [==============================] - 7s 727ms/step - loss: 0.4859 - accuracy: 0.7920 - val_loss: 0.5639 - val_accuracy: 0.7188\n",
            "Epoch 7/15\n",
            "10/10 [==============================] - 8s 774ms/step - loss: 0.4406 - accuracy: 0.8141 - val_loss: 0.3981 - val_accuracy: 0.8125\n",
            "Epoch 8/15\n",
            "10/10 [==============================] - 8s 774ms/step - loss: 0.3982 - accuracy: 0.8369 - val_loss: 0.2368 - val_accuracy: 0.9062\n",
            "Epoch 9/15\n",
            "10/10 [==============================] - 8s 757ms/step - loss: 0.3034 - accuracy: 0.8688 - val_loss: 0.0947 - val_accuracy: 1.0000\n",
            "Epoch 10/15\n",
            "10/10 [==============================] - 8s 776ms/step - loss: 0.2972 - accuracy: 0.9037 - val_loss: 0.3812 - val_accuracy: 0.7812\n",
            "Epoch 11/15\n",
            "10/10 [==============================] - 7s 759ms/step - loss: 0.3852 - accuracy: 0.8550 - val_loss: 0.3744 - val_accuracy: 0.8750\n",
            "Epoch 12/15\n",
            "10/10 [==============================] - 7s 720ms/step - loss: 0.2984 - accuracy: 0.8904 - val_loss: 0.2253 - val_accuracy: 0.9688\n",
            "Epoch 13/15\n",
            "10/10 [==============================] - 7s 763ms/step - loss: 0.2469 - accuracy: 0.9218 - val_loss: 0.3273 - val_accuracy: 0.9688\n",
            "Epoch 14/15\n",
            "10/10 [==============================] - 8s 763ms/step - loss: 0.1753 - accuracy: 0.9496 - val_loss: 0.3676 - val_accuracy: 0.8750\n",
            "Epoch 15/15\n",
            "10/10 [==============================] - 8s 775ms/step - loss: 0.1593 - accuracy: 0.9405 - val_loss: 0.1847 - val_accuracy: 0.9375\n"
          ],
          "name": "stdout"
        }
      ]
    },
    {
      "cell_type": "code",
      "metadata": {
        "id": "Fp1i5vI09Mqd",
        "colab": {
          "base_uri": "https://localhost:8080/"
        },
        "outputId": "74ae9057-b52c-427f-b9d7-9ad0200a3cae"
      },
      "source": [
        "model.evaluate(validation_generator)"
      ],
      "execution_count": null,
      "outputs": [
        {
          "output_type": "stream",
          "text": [
            "14/14 [==============================] - 7s 498ms/step - loss: 0.2788 - accuracy: 0.8750\n"
          ],
          "name": "stdout"
        },
        {
          "output_type": "execute_result",
          "data": {
            "text/plain": [
              "[0.2787880301475525, 0.875]"
            ]
          },
          "metadata": {
            "tags": []
          },
          "execution_count": 13
        }
      ]
    }
  ]
}